{
 "cells": [
  {
   "cell_type": "code",
   "execution_count": 1,
   "id": "7211aa1e-7eb0-4065-aa5e-ab6e24f2577e",
   "metadata": {},
   "outputs": [],
   "source": [
    "#BATUHAN CAKIR 090190164\n",
    "from Neural_Network import NeuralNetwork\n",
    "import numpy as np\n",
    "import glob\n",
    "from PIL import Image\n",
    "import matplotlib.pyplot as plt"
   ]
  },
  {
   "cell_type": "code",
   "execution_count": 2,
   "id": "75c2aef9-8318-42fb-b266-3c1ad8fcd3d1",
   "metadata": {},
   "outputs": [],
   "source": [
    "#data road, for import\n",
    "agac_yolu = glob.glob('C:/Users/BATUHAN/Desktop/gri_kaynak/dataset/agac/*')\n",
    "top_yolu  = glob.glob('C:/Users/BATUHAN/Desktop/gri_kaynak/dataset/top/*')"
   ]
  },
  {
   "cell_type": "code",
   "execution_count": 3,
   "id": "e76ff7e6-054d-4117-b502-baedc85cff25",
   "metadata": {},
   "outputs": [],
   "source": [
    "def gorseli_matrixe_atma(path):\n",
    "    column_no = 0\n",
    "    sifirlar = np.zeros((10000,500))\n",
    "    while True:\n",
    "        if column_no ==len(path):\n",
    "            break\n",
    "        image = Image.open(path[column_no]).convert('L')\n",
    "        img_transpose = np.ravel(image).T\n",
    "        sifirlar[:,column_no] = img_transpose\n",
    "        column_no +=1\n",
    "    return sifirlar"
   ]
  },
  {
   "cell_type": "code",
   "execution_count": 4,
   "id": "09e2f3eb-b3d5-4a99-bdbf-9ce23ec749cf",
   "metadata": {},
   "outputs": [],
   "source": [
    "agac_veri = gorseli_matrixe_atma(agac_yolu)\n",
    "top_veri = gorseli_matrixe_atma(top_yolu)"
   ]
  },
  {
   "cell_type": "code",
   "execution_count": 5,
   "id": "256e20e5-f2f2-408a-b827-733a88e55879",
   "metadata": {},
   "outputs": [],
   "source": [
    "# seperating image data train and test, and flattening\n",
    "agac_train = agac_veri[:,0:450].T/255.0\n",
    "agac_test  = agac_veri[:,450:].T/255.0\n",
    "top_train  = top_veri[:,0:450].T/255.0\n",
    "top_test   = top_veri[:,450:].T/255.0"
   ]
  },
  {
   "cell_type": "code",
   "execution_count": 6,
   "id": "e2f6e26e-e3b4-4c9c-955a-628e13691178",
   "metadata": {},
   "outputs": [
    {
     "name": "stdout",
     "output_type": "stream",
     "text": [
      " Number of training examples--> 900\n",
      " Number of testing examples---> 100\n",
      "\n"
     ]
    }
   ],
   "source": [
    "print(\" Number of training examples--> {}\\n\".format(agac_train.shape[0]+top_train.shape[0]),\n",
    "\"Number of testing examples---> {}\\n\".format(agac_test.shape[0]+top_test.shape[0]))"
   ]
  },
  {
   "cell_type": "code",
   "execution_count": null,
   "id": "0d22b540-54b2-4d2d-a48f-77324094f5b5",
   "metadata": {},
   "outputs": [],
   "source": [
    "# ITS BROKEN ########\n",
    "def model(X_train, Y_train, X_test, Y_test, num_iterations = 1000, learning_rate = 0.005, hidden_layer_size):\n",
    "    parameters = setParameters(X_train, Y_train, hidden_layer_size):\n",
    "        \n",
    "    forward_prop = forward_Propagation(X_train, parameters):\n",
    "        \n",
    "    back_prop = backPropagation(X_train, Y_train, parameters, cache):\n",
    "    \n",
    "    update_parameters = update_Parameters(gradients, parameters, learning_rate):\n",
    "        \n",
    "    fitting = fit (X_train, Y_train, learning_rate, hidden_layer_size, number_of_iterations)\n",
    "    return #####"
   ]
  },
  {
   "cell_type": "code",
   "execution_count": null,
   "id": "610868d8-04ae-4441-8eea-5105086ab442",
   "metadata": {},
   "outputs": [],
   "source": []
  }
 ],
 "metadata": {
  "kernelspec": {
   "display_name": "Python 3 (ipykernel)",
   "language": "python",
   "name": "python3"
  },
  "language_info": {
   "codemirror_mode": {
    "name": "ipython",
    "version": 3
   },
   "file_extension": ".py",
   "mimetype": "text/x-python",
   "name": "python",
   "nbconvert_exporter": "python",
   "pygments_lexer": "ipython3",
   "version": "3.9.12"
  }
 },
 "nbformat": 4,
 "nbformat_minor": 5
}
